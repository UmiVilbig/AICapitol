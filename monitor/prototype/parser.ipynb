{
 "cells": [
  {
   "cell_type": "code",
   "execution_count": 6,
   "id": "bb80d8aa",
   "metadata": {},
   "outputs": [],
   "source": [
    "import re\n",
    "import json\n",
    "from pypdf import PdfReader"
   ]
  },
  {
   "cell_type": "code",
   "execution_count": 7,
   "id": "6603dabf",
   "metadata": {},
   "outputs": [
    {
     "name": "stdout",
     "output_type": "stream",
     "text": [
      "['4K', '5C', '5F', '5P', 'AB', 'BA', 'BK', 'CO', 'CS', 'CT', 'DB', 'DO', 'DS', 'EF', 'EQ', 'ET', 'FA', 'FE', 'FN', 'FU', 'GS', 'HE', 'HN', 'IC', 'IH', 'IP', 'IR', 'MA', 'MF', 'MO', 'OI', 'OL', 'OP', 'OT', 'PE', 'PM', 'PS', 'RE', 'RP', 'RS', 'SA', 'ST', 'TR', 'VA', 'VI', 'WU']\n"
     ]
    }
   ],
   "source": [
    "with open('asset-type-codes.json', 'r') as f:\n",
    "  data = json.load(f)\n",
    "keys = list(data.keys())\n",
    "print(keys)"
   ]
  },
  {
   "cell_type": "code",
   "execution_count": 8,
   "id": "672a9a1c",
   "metadata": {},
   "outputs": [],
   "source": [
    "reader = PdfReader(\"20026063.pdf\")\n",
    "num_pages = len(reader.pages)"
   ]
  },
  {
   "cell_type": "code",
   "execution_count": 9,
   "id": "5af9d47c",
   "metadata": {},
   "outputs": [],
   "source": [
    "page = reader.pages[0]\n",
    "text = page.extract_text()"
   ]
  },
  {
   "cell_type": "code",
   "execution_count": 10,
   "id": "0778c341",
   "metadata": {},
   "outputs": [],
   "source": [
    "lines = text.splitlines()\n",
    "lines = [x.replace('\\x00', '') for x in lines]\n",
    "\n",
    "endTHeadPattern = r'\\$\\d+(?:\\.\\d+)*'\n",
    "for i, line in enumerate(lines):\n",
    "  if re.search(endTHeadPattern, line):\n",
    "        lines = lines[i + 1:]\n",
    "        break"
   ]
  },
  {
   "cell_type": "code",
   "execution_count": 18,
   "id": "59545666",
   "metadata": {},
   "outputs": [
    {
     "name": "stdout",
     "output_type": "stream",
     "text": [
      "['SP Apple Inc. - Common Stock (AAPL)[ST]P 10/07/202410/22/2024$15,001 -$50,000', 'SP GE Vernova Inc. Common Stock(GEV) [ST]S 11/08/202411/12/2024 $15,001 -$50,000', 'SP Pfizer, Inc. Common Stock (PFE) [ST]P 10/21/202410/23/2024$15,001 -$50,000', 'SP TuHURA Biosciences, Inc. - CommonStock (HURA) [ST]E 10/18/202411/12/2024 $100,001 -$250,000']\n"
     ]
    }
   ],
   "source": [
    "endOfTxPattern = r'^F S: (.*)$'\n",
    "date_pattern = r\"(\\d{2}/\\d{2}/\\d{4})\"\n",
    "description_pattern = r'D:\\s*'\n",
    "tx = \"\"\n",
    "txs = []\n",
    "for i, line in enumerate(lines):\n",
    "  if re.search(endOfTxPattern, line):\n",
    "    txs.append(tx)\n",
    "    tx = \"\"\n",
    "    continue\n",
    "  if not re.search(description_pattern, line):\n",
    "    tx += line\n",
    "print(txs)"
   ]
  },
  {
   "cell_type": "code",
   "execution_count": 25,
   "id": "bd1b0784",
   "metadata": {},
   "outputs": [
    {
     "name": "stdout",
     "output_type": "stream",
     "text": [
      "[{'Stock': 'Baxter International Inc. CommonStock (BAX) ', 'Class': 'ST', 'Type': 'P', 'Bought': '11/18/2024', 'Filed': '11/19/2024', 'Amount': '$1,001 - $15,000'}, {'Stock': 'New Gold Inc. (NGD) ', 'Class': 'ST', 'Type': 'S', 'Bought': '11/18/2024', 'Filed': '11/19/2024', 'Amount': '$1,001 - $15,000'}, {'Stock': 'Patterson-UTI Energy, Inc. - CommonStock (PTEN) ', 'Class': 'ST', 'Type': 'P', 'Bought': '10/23/2024', 'Filed': '10/23/2024', 'Amount': '$1,001 - $15,000'}, {'Stock': 'ViaSat, Inc. - Common Stock (VSAT)', 'Class': 'ST', 'Type': 'P', 'Bought': '10/23/2024', 'Filed': '10/23/2024', 'Amount': '$1,001 - $15,000'}]\n"
     ]
    }
   ],
   "source": [
    "owner_pattern = r'^(DC|JT|SP)\\s'\n",
    "asset_class_pattern = r'\\[(.*?)\\]'\n",
    "transaction_pattern = r\"^(P|S)\"\n",
    "date_pattern = r\"(\\d{2}/\\d{2}/\\d{4})\"\n",
    "amount_pattern = r\"(\\$\\d{1,3}(,\\d{3})*(\\.\\d{2})?( - \\$\\d{1,3}(,\\d{3})*(\\.\\d{2})?)?)\"\n",
    "\n",
    "transactions = []\n",
    "\n",
    "for tx in txs:\n",
    "  asset = re.search(asset_class_pattern, tx)\n",
    "  if not asset:\n",
    "    continue\n",
    "  owner = re.search(owner_pattern, tx)\n",
    "  if owner.group(0):\n",
    "    tx = tx.split(owner.group(0))[1:][0]\n",
    "  asset_class = asset.group(1)\n",
    "  stock = tx.split(f\"[{asset_class}]\")[0]\n",
    "  tx = tx.split(f\"[{asset_class}]\")[1:][0]\n",
    "  if tx[0] == \" \":\n",
    "    tx = tx[1:]\n",
    "  orderType = re.search(transaction_pattern, tx).group(0)\n",
    "  dates = re.findall(date_pattern, tx)\n",
    "  amount = re.search(amount_pattern, tx).group(0)\n",
    "  tx = {\n",
    "    \"Stock\": stock,\n",
    "    \"Class\": asset_class,\n",
    "    \"Type\": orderType,\n",
    "    \"Bought\": dates[0],\n",
    "    \"Filed\": dates[1],\n",
    "    \"Amount\": amount\n",
    "  }\n",
    "  transactions.append(tx)\n",
    "\n",
    "print(transactions)"
   ]
  }
 ],
 "metadata": {
  "kernelspec": {
   "display_name": "Python 3",
   "language": "python",
   "name": "python3"
  },
  "language_info": {
   "codemirror_mode": {
    "name": "ipython",
    "version": 3
   },
   "file_extension": ".py",
   "mimetype": "text/x-python",
   "name": "python",
   "nbconvert_exporter": "python",
   "pygments_lexer": "ipython3",
   "version": "3.12.0"
  }
 },
 "nbformat": 4,
 "nbformat_minor": 5
}
