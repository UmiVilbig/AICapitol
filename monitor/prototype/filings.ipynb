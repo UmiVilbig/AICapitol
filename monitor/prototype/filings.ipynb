{
 "cells": [
  {
   "cell_type": "code",
   "execution_count": null,
   "id": "bd1b0784",
   "metadata": {},
   "outputs": [],
   "source": [
    "import pandas\n",
    "import io\n",
    "from urllib.request import urlopen"
   ]
  },
  {
   "cell_type": "code",
   "execution_count": null,
   "id": "e4e8c130",
   "metadata": {},
   "outputs": [
    {
     "name": "stdout",
     "output_type": "stream",
     "text": [
      "  Prefix        Last      First Suffix FilingType StateDst  Year FilingDate  \\\n",
      "0    NaN        Abel    William    NaN          C     TX31  2024  5/12/2024   \n",
      "1    NaN   Abolfazli    Maryam.    NaN          C     TN05  2024  5/13/2024   \n",
      "2    Mr.  Aboujaoude  Rock Adel    Jr.          C     FL12  2024  5/14/2024   \n",
      "3    NaN       Adams   Jennifer    NaN          C     FL07  2024  5/30/2024   \n",
      "4    NaN       Adams  Sheryl L.    NaN          W     CA49  2024  4/22/2024   \n",
      "\n",
      "      DocID  \n",
      "0  10060658  \n",
      "1  10060479  \n",
      "2  10061019  \n",
      "3  10062032  \n",
      "4      7940  \n"
     ]
    },
    {
     "ename": "",
     "evalue": "",
     "output_type": "error",
     "traceback": [
      "\u001b[1;31mThe Kernel crashed while executing code in the current cell or a previous cell. \n",
      "\u001b[1;31mPlease review the code in the cell(s) to identify a possible cause of the failure. \n",
      "\u001b[1;31mClick <a href='https://aka.ms/vscodeJupyterKernelCrash'>here</a> for more info. \n",
      "\u001b[1;31mView Jupyter <a href='command:jupyter.viewOutput'>log</a> for further details."
     ]
    }
   ],
   "source": [
    "url=\"https://disclosures-clerk.house.gov/public_disc/financial-pdfs/2024FD.txt\"\n",
    "\n",
    "with urlopen(url) as response:\n",
    "  data_in_memory = io.StringIO(response.read().decode())\n",
    "  data = pandas.read_csv(data_in_memory, sep=\"\\t\")\n",
    "  print(data.head())"
   ]
  },
  {
   "cell_type": "code",
   "execution_count": 1,
   "id": "2f9d8476",
   "metadata": {},
   "outputs": [
    {
     "name": "stdout",
     "output_type": "stream",
     "text": [
      "\n"
     ]
    }
   ],
   "source": [
    "import requests\n",
    "import json\n",
    "\n",
    "url = \"https://discord.com/api/webhooks/1314047025003892798/jkZJTnpTc09rAxZtjZHvqKXOttrMp6OCii_aZxuWQbsGtsaGv4MeibHIwF9VKmoRX33a\"\n",
    "\n",
    "payload = json.dumps({\n",
    "  \"content\": None,\n",
    "  \"embeds\": [\n",
    "    {\n",
    "      \"title\": \"{name} Transaction!\",\n",
    "      \"description\": \"🚨 `NOT FINANCIAL ADVICE DYOR` 🚨\\n\\n```\\n{transaction}\\n```\",\n",
    "      \"color\": None,\n",
    "      \"thumbnail\": {\n",
    "        \"url\": \"https://www.congress.gov/img/member/{thomas_id}_200.jpg\"\n",
    "      }\n",
    "    }\n",
    "  ],\n",
    "  \"attachments\": []\n",
    "})\n",
    "headers = {\n",
    "  'Content-Type': 'application/json',\n",
    "  }\n",
    "\n",
    "response = requests.request(\"POST\", url, headers=headers, data=payload)\n",
    "\n",
    "print(response.text)\n"
   ]
  }
 ],
 "metadata": {
  "kernelspec": {
   "display_name": "Python 3",
   "language": "python",
   "name": "python3"
  },
  "language_info": {
   "codemirror_mode": {
    "name": "ipython",
    "version": 3
   },
   "file_extension": ".py",
   "mimetype": "text/x-python",
   "name": "python",
   "nbconvert_exporter": "python",
   "pygments_lexer": "ipython3",
   "version": "3.12.0"
  }
 },
 "nbformat": 4,
 "nbformat_minor": 5
}
