{
 "cells": [
  {
   "cell_type": "code",
   "execution_count": null,
   "id": "214627d5-b63e-4f90-b3a7-02ac5c6f1512",
   "metadata": {},
   "outputs": [],
   "source": [
    "import pandas\n",
    "import io"
   ]
  }
 ],
 "metadata": {
  "kernelspec": {
   "display_name": "Python 3 (ipykernel)",
   "language": "python",
   "name": "python3"
  },
  "language_info": {
   "codemirror_mode": {
    "name": "ipython",
    "version": 3
   },
   "file_extension": ".py",
   "mimetype": "text/x-python",
   "name": "python",
   "nbconvert_exporter": "python",
   "pygments_lexer": "ipython3",
   "version": "3.12.0"
  }
 },
 "nbformat": 4,
 "nbformat_minor": 5
}
