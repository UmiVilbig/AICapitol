{
 "cells": [
  {
   "cell_type": "code",
   "execution_count": 188,
   "id": "97b3e045-067d-4e63-b462-2609bf579f8f",
   "metadata": {},
   "outputs": [],
   "source": [
    "import yfinance as yf\n",
    "from datetime import datetime, timedelta"
   ]
  },
  {
   "cell_type": "code",
   "execution_count": 189,
   "id": "ce7bfaf0",
   "metadata": {},
   "outputs": [],
   "source": [
    "ticker = \"ALB\"\n",
    "start = '09/27/2019'\n",
    "end = \"12/15/2024\""
   ]
  },
  {
   "cell_type": "code",
   "execution_count": 190,
   "id": "577b2106",
   "metadata": {},
   "outputs": [],
   "source": [
    "def convertDateFormat(date, delta = 0):\n",
    "  if type(date) is not str:\n",
    "      date = date.strftime(\"%m/%d/%Y\")\n",
    "  dateObj = datetime.strptime(date, \"%m/%d/%Y\") + timedelta(days=delta)\n",
    "  return dateObj.strftime(\"%Y-%m-%d\")"
   ]
  },
  {
   "cell_type": "code",
   "execution_count": 191,
   "id": "4b51b66f",
   "metadata": {},
   "outputs": [],
   "source": [
    "def closestWeekday(date):\n",
    "  if type(date) is str:\n",
    "    date = datetime.strptime(date, '%Y-%m-%d')\n",
    "  weekday = date.weekday()\n",
    "  if weekday >= 5:\n",
    "    date -= timedelta(days=weekday -4)\n",
    "  return date.strftime('%Y-%m-%d')"
   ]
  },
  {
   "cell_type": "code",
   "execution_count": 192,
   "id": "51ac54ed",
   "metadata": {},
   "outputs": [],
   "source": [
    "def getStockInfo(ticker, start, end):\n",
    "  start = convertDateFormat(start)\n",
    "  end = convertDateFormat(end)\n",
    "  df = yf.download(ticker, start=start, end=end)\n",
    "  if df.empty:\n",
    "    return float('nan')\n",
    "  return df"
   ]
  },
  {
   "cell_type": "code",
   "execution_count": 193,
   "id": "54942735",
   "metadata": {},
   "outputs": [
    {
     "name": "stderr",
     "output_type": "stream",
     "text": [
      "[*********************100%***********************]  1 of 1 completed"
     ]
    },
    {
     "name": "stdout",
     "output_type": "stream",
     "text": [
      "Price       Adj Close      Close       High        Low       Open   Volume\n",
      "Ticker            ALB        ALB        ALB        ALB        ALB      ALB\n",
      "Date                                                                      \n",
      "2019-09-27  64.104362  68.139999  68.220001  66.769997  67.370003  1667600\n",
      "2019-09-30  65.402641  69.519997  69.870003  67.989998  68.250000  1387800\n",
      "2019-10-01  64.264297  68.309998  70.839996  67.910004  69.949997  1721400\n",
      "2019-10-02  62.627361  66.570000  67.470001  66.099998  67.379997  1202800\n",
      "2019-10-03  63.248287  67.230003  67.230003  64.900002  66.050003  1122100\n"
     ]
    },
    {
     "name": "stderr",
     "output_type": "stream",
     "text": [
      "\n"
     ]
    }
   ],
   "source": [
    "df = getStockInfo(ticker, start, end)\n",
    "print(df.head())"
   ]
  },
  {
   "cell_type": "code",
   "execution_count": 194,
   "id": "d61e26d7",
   "metadata": {},
   "outputs": [],
   "source": [
    "spot7 = closestWeekday(convertDateFormat(start, 7))\n",
    "spot30 = closestWeekday(convertDateFormat(start, 30))\n",
    "spot90 = closestWeekday(convertDateFormat(start, 90))\n",
    "spot180 = closestWeekday(convertDateFormat(start, 180))\n",
    "start = convertDateFormat(start)\n",
    "end = \"12/14/2024\"\n",
    "end = convertDateFormat(end)"
   ]
  },
  {
   "cell_type": "code",
   "execution_count": 195,
   "id": "62b02fb9",
   "metadata": {},
   "outputs": [
    {
     "name": "stdout",
     "output_type": "stream",
     "text": [
      "64.10436248779297 62.39216613769531 59.8238525390625 68.58106231689453 57.09720993041992 None\n"
     ]
    }
   ],
   "source": [
    "startRow = df.loc[start].iloc[0]\n",
    "spot7Row = df.loc[spot7].iloc[0]\n",
    "spot30Row = df.loc[spot30].iloc[0]\n",
    "spot90Row = df.loc[spot90].iloc[0]\n",
    "spot180Row = df.loc[spot180].iloc[0]\n",
    "endRow = df.loc[end].iloc[0] if end in df.index else None\n",
    "print(startRow, spot7Row, spot30Row, spot90Row, spot180Row, endRow)"
   ]
  }
 ],
 "metadata": {
  "kernelspec": {
   "display_name": "Python 3",
   "language": "python",
   "name": "python3"
  },
  "language_info": {
   "codemirror_mode": {
    "name": "ipython",
    "version": 3
   },
   "file_extension": ".py",
   "mimetype": "text/x-python",
   "name": "python",
   "nbconvert_exporter": "python",
   "pygments_lexer": "ipython3",
   "version": "3.12.0"
  }
 },
 "nbformat": 4,
 "nbformat_minor": 5
}
