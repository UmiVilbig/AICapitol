{
 "cells": [
  {
   "cell_type": "code",
   "execution_count": 1,
   "id": "e75dcc9e",
   "metadata": {},
   "outputs": [],
   "source": [
    "import re\n",
    "import json\n",
    "import pandas\n",
    "import io\n",
    "\n",
    "from urllib.request import urlopen\n",
    "from pypdf import PdfReader"
   ]
  },
  {
   "cell_type": "code",
   "execution_count": 2,
   "id": "dc3f9a7e",
   "metadata": {},
   "outputs": [],
   "source": [
    "DOCID = \"20024468\"\n",
    "YEAR = 2024\n",
    "DOCURL = f\"https://disclosures-clerk.house.gov/public_disc/ptr-pdfs/{YEAR}/{DOCID}.pdf\"\n",
    "ERROR_HOOK = \"https://discord.com/api/webhooks/1316932982417657989/O7QMv2k9dmf0PsfViAAw3jjJmX25_IYEHqrPCpcryniqigQC0bxsmBQA7h2Bc4qxobG4\""
   ]
  },
  {
   "cell_type": "code",
   "execution_count": 3,
   "id": "5f17daec",
   "metadata": {},
   "outputs": [],
   "source": [
    "# cleaning the document\n",
    "thead_pattern = r'\\$\\d+(?:\\.\\d+)*'\n",
    "endTx_pattern = r'^F S: (.*)$'\n",
    "description_pattern = r'D:\\s*'\n",
    "\n",
    "# parse the tx\n",
    "asset_class_pattern = r'\\[(.*?)\\]'\n",
    "owner_pattern = r'^(DC|JT|SP)\\s'\n",
    "stockCode = \"ST\"\n",
    "ticker_pattern = r'\\([A-Z]{1,5}\\)'\n",
    "tx_pattern = r\"^(P|S|E)\"\n",
    "date_pattern = r'(\\d{2}/\\d{2}/\\d{4})'\n",
    "amount_pattern = r'\\$(\\d{1,3}(,\\d{3})*(\\.\\d{2})?)\\s*-\\s*\\$(\\d{1,3}(,\\d{3})*(\\.\\d{2})?)|over\\s*\\$50,000,000'\n",
    "\n",
    "# edge cases\n",
    "filingInTx = \"Filing ID #\"\n",
    "# orderTypeFcked = r\"[A-Za-z]+[PSE](?=\\s\\d)\"\n",
    "orderTypeFcked = r\"[A-Za-z]+[PSE](?=\\s\\d)|\\)?[PSE](?=\\s\\d)\"\n",
    "# orderTypeFckedParse = r\"(\\w+)([PSE])\"\n",
    "orderTypeFckedParse = r\"([A-Za-z]*|[^\\w\\s]*)([PSE])\"\n",
    "fckedTHead = r\"\\s*ID Owner Asset Transaction\\s*\"\n",
    "subHolding = \"S O: \""
   ]
  },
  {
   "cell_type": "code",
   "execution_count": 4,
   "id": "054105c4",
   "metadata": {},
   "outputs": [],
   "source": [
    "# parse docs into lines\n",
    "with urlopen(DOCURL) as response:\n",
    "  pdf_bytes = io.BytesIO(response.read())\n",
    "  reader = PdfReader(pdf_bytes)\n",
    "\n",
    "text = \"\"\n",
    "for x in range(len(reader.pages)):\n",
    "  page = reader.pages[x]\n",
    "  text += page.extract_text()\n",
    "lines = text.splitlines()\n",
    "lines = [x.replace('\\x00', '') for x in lines]"
   ]
  },
  {
   "cell_type": "code",
   "execution_count": 5,
   "id": "05fef00e",
   "metadata": {},
   "outputs": [
    {
     "name": "stdout",
     "output_type": "stream",
     "text": [
      "HERE\n",
      "HERE\n",
      "['Alphabet Inc. - Class A CommonStock (GOOGL) [ST]S (partial) 01/25/202402/01/2024$1,001 - $15,000', 'Alphabet Inc. - Class A CommonStock (GOOGL) [ST]S (partial) 01/25/202402/01/2024$1,001 - $15,000', 'Alphabet Inc. - Class C Capital Stock(GOOG) [ST]S (partial) 01/25/202402/01/2024$1,001 - $15,000', 'Alphabet Inc. - Class C Capital Stock(GOOG) [ST]S (partial) 01/25/202402/01/2024$1,001 - $15,000', 'Amazon.com, Inc. - Common Stock(AMZN) [ST]S (partial) 01/25/202402/01/2024$1,001 - $15,000', 'Amazon.com, Inc. - Common Stock(AMZN) [ST]S (partial) 01/25/202402/01/2024$1,001 - $15,000', 'Apple Inc. - Common Stock (AAPL)[ST]S (partial) 01/25/202402/01/2024$15,001 -$50,000', 'Apple Inc. - Common Stock (AAPL)S (partial) 01/25/202402/01/2024$15,001 -[ST] $50,000', 'Berkshire Hathaway Inc. NewCommon Stock (BRK.B) [ST]S (partial) 01/25/202402/01/2024$1,001 - $15,000', 'Berkshire Hathaway Inc. NewCommon Stock (BRK.B) [ST]S (partial) 01/25/202402/01/2024$1,001 - $15,000', 'Bitcoin [CT] S 02/05/202402/05/2024$250,001 -$500,000', 'Ethereum [CT] S 02/05/202402/05/2024$100,001 -$250,000', 'Litecoin [CT] S 02/05/202402/05/2024$15,001 -$50,000', 'Microsoft Corporation - CommonStock (MSFT) [ST]S (partial) 01/25/202402/01/2024$1,001 - $15,000', 'Microsoft Corporation - CommonStock (MSFT) [ST]S (partial) 01/25/202402/01/2024$1,001 - $15,000']\n"
     ]
    }
   ],
   "source": [
    "# isolate txs\n",
    "for i, line in enumerate(lines):\n",
    "  # remove everything through the first thead\n",
    "  if re.search(thead_pattern, line):\n",
    "    lines = lines[i + 1:]\n",
    "    break\n",
    "\n",
    "# in case of any more table headers\n",
    "headers = [\"Type\", \"Date Notification\", \"Date\", \"Amount Cap.\", \"Gains >\", \"$200?\"]\n",
    "for header in headers:\n",
    "  while header in lines:\n",
    "    lines.remove(header)\n",
    "  # if header in lines:\n",
    "  #   lines.remove(header)\n",
    "\n",
    "tx, txs = \"\", []\n",
    "for i, line in enumerate(lines):\n",
    "  if re.search(endTx_pattern, line):\n",
    "    tx = tx.replace(\"ID Owner Asset Transaction\", \"\")\n",
    "    txs.append(tx)\n",
    "    tx = \"\"\n",
    "    continue\n",
    "  if not re.search(description_pattern, line):\n",
    "    if \"Apple Inc.\" in line:\n",
    "      print(\"HERE\")\n",
    "    if not filingInTx in line:\n",
    "      match = re.search(orderTypeFcked, tx)\n",
    "      if match:\n",
    "        prefix, suffix = tx[:match.start()], tx[match.end():]\n",
    "        match_str = match.group()\n",
    "        match = re.match(orderTypeFckedParse, match_str)\n",
    "        word, orderType = match.group(1), match.group(2)\n",
    "        if word == \"\":\n",
    "          tx += line\n",
    "        else:\n",
    "          tx = prefix + word + \" \" + line + orderType + suffix\n",
    "      else:\n",
    "        if not subHolding in line:\n",
    "          tx += line\n",
    "print(txs)"
   ]
  },
  {
   "cell_type": "code",
   "execution_count": 335,
   "id": "f5ffc187",
   "metadata": {},
   "outputs": [
    {
     "name": "stdout",
     "output_type": "stream",
     "text": [
      "[{'Stock': 'BP p.l.c. Common Stock (BP) ', 'Ticker': 'BP', 'Class': 'ST', 'Type': 'S', 'Bought': '01/08/2024', 'Filed': '02/05/2024', 'Amount': '$15,001 -$50,000'}, {'Stock': 'Cardinal Health, Inc. Common Stock(CAH) ', 'Ticker': 'CAH', 'Class': 'ST', 'Type': 'P', 'Bought': '01/12/2024', 'Filed': '02/05/2024', 'Amount': '$50,001 -$100,000'}, {'Stock': 'Intel Corporation - Common Stock(INTC) ', 'Ticker': 'INTC', 'Class': 'ST', 'Type': 'P', 'Bought': '01/08/2024', 'Filed': '02/05/2024', 'Amount': '$15,001 -$50,000'}, {'Stock': 'Lam Research Corporation - CommonStock (LRCX) ', 'Ticker': 'LRCX', 'Class': 'ST', 'Type': 'P', 'Bought': '01/19/2024', 'Filed': '02/05/2024', 'Amount': '$15,001 -$50,000'}, {'Stock': 'Regeneron Pharmaceuticals, Inc. -Common Stock (REGN) ', 'Ticker': 'REGN', 'Class': 'ST', 'Type': 'P', 'Bought': '01/17/2024', 'Filed': '02/05/2024', 'Amount': '$1,001 - $15,000'}, {'Stock': 'Wayfair Inc. Class A Common Stock(W) ', 'Ticker': 'W', 'Class': 'ST', 'Type': 'S', 'Bought': '01/17/2024', 'Filed': '02/05/2024', 'Amount': '$15,001 -$50,000'}]\n"
     ]
    }
   ],
   "source": [
    "# parse the txs\n",
    "transactions = []\n",
    "for tx in txs:\n",
    "  asset = re.search(asset_class_pattern, tx)\n",
    "  if not asset:\n",
    "    continue\n",
    "\n",
    "  owner = re.search(owner_pattern, tx)\n",
    "  if owner and owner.group(0):\n",
    "    # tx = tx.split(owner.group(0))[1:][0]\n",
    "    tx = tx.replace(owner.group(0), \"\")\n",
    "  \n",
    "  asset_class = asset.group(1)\n",
    "  if asset_class != stockCode:\n",
    "    break\n",
    "  \n",
    "  stock = tx.split(f\"[{asset_class}]\")[0]\n",
    "  ticker = re.search(ticker_pattern, stock)\n",
    "  if ticker:\n",
    "    ticker = ticker.group()[1:-1]\n",
    "  tx = tx.replace(f\"{stock}\", \"\")\n",
    "  tx = tx.replace(f\"[{asset_class}]\", \"\")\n",
    "  # tx = tx.split(f\"[{asset_class}]\")[1:][0]\n",
    "\n",
    "  # sometimes the first char is a space and causes error so remove it\n",
    "  if tx[0] == \" \":\n",
    "    tx = tx[1:]\n",
    "  \n",
    "  orderType = re.search(tx_pattern, tx)\n",
    "  if orderType:\n",
    "    orderType = orderType.group(0)\n",
    "  \n",
    "  dates = re.findall(date_pattern, tx)\n",
    "  amount = re.search(amount_pattern, tx).group(0)\n",
    "\n",
    "  # validate the fields\n",
    "  tx = {\n",
    "    \"Stock\": stock,\n",
    "    \"Ticker\": ticker,\n",
    "    \"Class\": asset_class,\n",
    "    \"Type\": orderType,\n",
    "    \"Bought\": dates[0],\n",
    "    \"Filed\": dates[1],\n",
    "    \"Amount\": amount\n",
    "  }\n",
    "  transactions.append(tx)\n",
    "print(transactions)"
   ]
  }
 ],
 "metadata": {
  "kernelspec": {
   "display_name": "Python 3",
   "language": "python",
   "name": "python3"
  },
  "language_info": {
   "codemirror_mode": {
    "name": "ipython",
    "version": 3
   },
   "file_extension": ".py",
   "mimetype": "text/x-python",
   "name": "python",
   "nbconvert_exporter": "python",
   "pygments_lexer": "ipython3",
   "version": "3.12.0"
  }
 },
 "nbformat": 4,
 "nbformat_minor": 5
}
